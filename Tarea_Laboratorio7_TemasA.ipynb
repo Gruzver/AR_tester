{
  "nbformat": 4,
  "nbformat_minor": 0,
  "metadata": {
    "colab": {
      "provenance": [],
      "gpuType": "T4",
      "toc_visible": true,
      "include_colab_link": true
    },
    "kernelspec": {
      "name": "python3",
      "display_name": "Python 3"
    },
    "language_info": {
      "name": "python"
    },
    "accelerator": "GPU"
  },
  "cells": [
    {
      "cell_type": "markdown",
      "metadata": {
        "id": "view-in-github",
        "colab_type": "text"
      },
      "source": [
        "<a href=\"https://colab.research.google.com/github/Gruzver/AR_tester/blob/main/Tarea_Laboratorio7_TemasA.ipynb\" target=\"_parent\"><img src=\"https://colab.research.google.com/assets/colab-badge.svg\" alt=\"Open In Colab\"/></a>"
      ]
    },
    {
      "cell_type": "markdown",
      "source": [
        "## **TAREA-II. CIFAR-100**\n",
        "A continuación se solicita realizar la comparación del comportamiento de las dos (02) técnicas revisadas y comparar resultados usando el dataset CIFAR-100. Pueden probar distintas arquitecturas de CNN y Red Neuronal\n",
        "\n",
        "***(5 Puntos)***\n",
        "\n",
        "1.   Lectura del Dataset - revisar dimensiones\n",
        "2.   Tratamiento necesario del Dataset\n",
        "3.   Modelo de Red Neuronal\n",
        "4.   Modelo de CNN\n",
        "5.   Comparación de metricas, no es necesario graficar la matriz de confusión y plantear posibles mejoras al modelo\n",
        "\n",
        "NOTA ADICIONAL:\n",
        "-Para la corrección de esta tarea se valorá más la interpretación de las metricas y comparación de modelos y como mejorarías el modelo"
      ],
      "metadata": {
        "id": "QfW2-eIYiA5Q"
      }
    },
    {
      "cell_type": "code",
      "source": [
        "#Se importa la clase para que puedan cargar el dataset\n",
        "from tensorflow.keras.datasets import cifar100"
      ],
      "metadata": {
        "id": "JbmfYTfyiHdh"
      },
      "execution_count": 70,
      "outputs": []
    },
    {
      "cell_type": "code",
      "source": [
        "import tensorflow as tf\n",
        "import numpy as np\n",
        "import matplotlib.pyplot as plt\n",
        "import random\n",
        "\n",
        "from tensorflow.keras.datasets import mnist\n",
        "from tensorflow.keras.models import Model\n",
        "\n",
        "from tensorflow.keras.layers import Input, Dense, Dropout, Conv2D, MaxPool2D, Flatten"
      ],
      "metadata": {
        "id": "5j6jvNcMbQv4"
      },
      "execution_count": 71,
      "outputs": []
    },
    {
      "cell_type": "code",
      "source": [
        "#Mostramos el entrenamiento de la red Neuronal\n",
        "def history_analisis(history):\n",
        "  f, (ax1, ax2) = plt.subplots(1, 2, figsize=(15,7))\n",
        "\n",
        "  ax1.plot(history.history['accuracy'], label='accuracy')\n",
        "  ax1.plot(history.history['val_accuracy'], label = 'val_accuracy')\n",
        "  ax1.set_xlabel('Epoch')\n",
        "  ax1.set_ylabel('Accuracy')\n",
        "  ax1.set_ylim([0, 1])\n",
        "  ax1.legend(loc='lower right');\n",
        "\n",
        "  ax2.plot(history.history['loss'], label='loss')\n",
        "  ax2.plot(history.history['val_loss'], label = 'val_loss')\n",
        "  ax2.set_xlabel('Epoch')\n",
        "  ax2.set_ylabel('Loss')\n",
        "  ax2.set_ylim([0, 10])\n",
        "  ax2.legend(loc='lower right');"
      ],
      "metadata": {
        "id": "nQ7XoeM0foTi"
      },
      "execution_count": 72,
      "outputs": []
    },
    {
      "cell_type": "code",
      "source": [
        "#Definición de funcion para el calculo de metricas multi-clase\n",
        "from sklearn.metrics import confusion_matrix\n",
        "import seaborn as sns\n",
        "import matplotlib.pyplot as plt\n",
        "import pandas as pd\n",
        "\n",
        "def calculo_metricas(CM, labels):\n",
        "    categoria = []\n",
        "    TruPos = []\n",
        "    FalPos = []\n",
        "    FalNeg = []\n",
        "    TruNeg = []\n",
        "    acc = []\n",
        "    prec = []\n",
        "    recall = []\n",
        "    f1 = []\n",
        "\n",
        "    total = np.sum(CM)\n",
        "\n",
        "    for i in range(len(labels)):\n",
        "        TP = CM[i][i]\n",
        "        FP = sum(CM[:, i]) - TP\n",
        "        FN = sum(CM[i, :]) - TP\n",
        "        TN = total - TP - FN - FP\n",
        "        a = (TP + TN) / (TP + TN + FN + FP)\n",
        "        p = TP / (TP + FP)\n",
        "        r = TP / (TP + FN)\n",
        "        f = 2 * (r * p) / (r + p)\n",
        "\n",
        "        categoria.append(labels[i])\n",
        "        TruPos.append(TP)\n",
        "        FalPos.append(FP)\n",
        "        TruNeg.append(TN)\n",
        "        acc.append(a)\n",
        "        prec.append(p)\n",
        "        recall.append(r)\n",
        "        f1.append(f)\n",
        "\n",
        "    metricas = pd.DataFrame({\n",
        "        'Métrica': ['Accuracy', 'Precision', 'Recall', 'F1-Score'],\n",
        "        'Máximo': [max(acc), max(prec), max(recall), max(f1)],\n",
        "        'Mínimo': [min(acc), min(prec), min(recall), min(f1)],\n",
        "        'Promedio': [np.mean(acc), np.mean(prec), np.mean(recall), np.mean(f1)]\n",
        "    })\n",
        "\n",
        "    return metricas\n",
        "\n",
        "def graf_confusion_matrix(CM, clases, add_text):\n",
        "    fig, ax = plt.subplots(figsize=(8, 8))  # Ajusta el tamaño de la figura\n",
        "    sns.heatmap(CM, annot=False, xticklabels=False, yticklabels=False, ax=ax, cmap='Blues')\n",
        "    ax.set_title('Matriz de confusión ' + add_text)\n",
        "    ax.set_xlabel('Valores Predecidos')\n",
        "    ax.set_ylabel('Valores Verdaderos')\n",
        "    plt.show()"
      ],
      "metadata": {
        "id": "ekQcJ4YMeZdz"
      },
      "execution_count": 4,
      "outputs": []
    },
    {
      "cell_type": "code",
      "source": [
        "(X_train, y_train), (X_test, y_test) = cifar100.load_data()"
      ],
      "metadata": {
        "id": "aEzQiVnHiHTQ"
      },
      "execution_count": 73,
      "outputs": []
    },
    {
      "cell_type": "code",
      "source": [
        "\n",
        "#Convertir a escala de grises\n",
        "X_train = X_train / 255.0\n",
        "X_test = X_test / 255.0\n",
        "\n",
        "X_train = np.mean(X_train, axis=3, keepdims=True)\n",
        "X_test = np.mean(X_test, axis=3, keepdims=True)\n",
        "\n",
        "print(\"X_train shape\", X_train.shape)\n",
        "print(\"y_train shape\", y_train.shape)\n",
        "print(\"X_test shape\", X_test.shape)\n",
        "print(\"y_test shape\", y_test.shape)"
      ],
      "metadata": {
        "id": "dqPile5XvGHl",
        "colab": {
          "base_uri": "https://localhost:8080/",
          "height": 0
        },
        "outputId": "825163eb-b655-473e-f508-6c9642ed5e95"
      },
      "execution_count": 74,
      "outputs": [
        {
          "output_type": "stream",
          "name": "stdout",
          "text": [
            "X_train shape (50000, 32, 32, 1)\n",
            "y_train shape (50000, 1)\n",
            "X_test shape (10000, 32, 32, 1)\n",
            "y_test shape (10000, 1)\n"
          ]
        }
      ]
    },
    {
      "cell_type": "code",
      "source": [
        "#verificar cuantas clases tiene el y_train\n",
        "np.unique(y_train)"
      ],
      "metadata": {
        "colab": {
          "base_uri": "https://localhost:8080/",
          "height": 0
        },
        "id": "2zq0Q8_mN3tz",
        "outputId": "2ad61be8-9601-4438-dbfb-3f8eb31678b4"
      },
      "execution_count": 75,
      "outputs": [
        {
          "output_type": "execute_result",
          "data": {
            "text/plain": [
              "array([ 0,  1,  2,  3,  4,  5,  6,  7,  8,  9, 10, 11, 12, 13, 14, 15, 16,\n",
              "       17, 18, 19, 20, 21, 22, 23, 24, 25, 26, 27, 28, 29, 30, 31, 32, 33,\n",
              "       34, 35, 36, 37, 38, 39, 40, 41, 42, 43, 44, 45, 46, 47, 48, 49, 50,\n",
              "       51, 52, 53, 54, 55, 56, 57, 58, 59, 60, 61, 62, 63, 64, 65, 66, 67,\n",
              "       68, 69, 70, 71, 72, 73, 74, 75, 76, 77, 78, 79, 80, 81, 82, 83, 84,\n",
              "       85, 86, 87, 88, 89, 90, 91, 92, 93, 94, 95, 96, 97, 98, 99])"
            ]
          },
          "metadata": {},
          "execution_count": 75
        }
      ]
    },
    {
      "cell_type": "code",
      "source": [
        "#Mostramos una imagen random del dataset\n",
        "num = random.randint(0, len(X_train))\n",
        "plt.imshow(X_train[num], interpolation='none')\n",
        "plt.title(\"Clase {}\".format(y_train[num]));"
      ],
      "metadata": {
        "colab": {
          "base_uri": "https://localhost:8080/",
          "height": 452
        },
        "id": "JOhvVicja3p8",
        "outputId": "b1a9d073-e04b-4275-b478-1529b12de955"
      },
      "execution_count": 76,
      "outputs": [
        {
          "output_type": "display_data",
          "data": {
            "text/plain": [
              "<Figure size 640x480 with 1 Axes>"
            ],
            "image/png": "[encoded data removed]"
          },
          "metadata": {}
        }
      ]
    },
    {
      "cell_type": "markdown",
      "source": [
        "**1. Modelo con Red Feedforward **"
      ],
      "metadata": {
        "id": "PKCZtDPZKW9s"
      }
    },
    {
      "cell_type": "code",
      "source": [
        "#tratamiento de datos\n",
        "from tensorflow.keras.utils import to_categorical\n",
        "\n",
        "X_train_flat = X_train.reshape(-1, 32*32)\n",
        "X_test_flat = X_test.reshape(-1, 32*32)\n",
        "\n",
        "y_train = to_categorical(y_train, 100)\n",
        "y_test = to_categorical(y_test, 100)"
      ],
      "metadata": {
        "id": "9rj_OUxdKMKo"
      },
      "execution_count": 77,
      "outputs": []
    },
    {
      "cell_type": "code",
      "source": [
        "from tensorflow import keras\n",
        "from tensorflow.keras import layers"
      ],
      "metadata": {
        "id": "siH6qj0NLMrf"
      },
      "execution_count": 78,
      "outputs": []
    },
    {
      "cell_type": "code",
      "source": [
        "model_NN = keras.Sequential()\n",
        "model_NN.add(Dense(256, input_dim=X_train_flat.shape[1], activation='relu'))\n",
        "model_NN.add(layers.Dense(128, activation='relu'))\n",
        "model_NN.add(layers.Dense(64, activation='relu'))\n",
        "model_NN.add(layers.Dense(100, activation='softmax'))\n",
        "\n",
        "model_NN.summary()"
      ],
      "metadata": {
        "id": "mo6x8tGWLS5V",
        "colab": {
          "base_uri": "https://localhost:8080/",
          "height": 0
        },
        "outputId": "f63ecbdb-3fe3-49b7-9276-dabbc21ad5dc"
      },
      "execution_count": 84,
      "outputs": [
        {
          "output_type": "stream",
          "name": "stdout",
          "text": [
            "Model: \"sequential_17\"\n",
            "_________________________________________________________________\n",
            " Layer (type)                Output Shape              Param #   \n",
            "=================================================================\n",
            " dense_34 (Dense)            (None, 256)               262400    \n",
            "                                                                 \n",
            " dense_35 (Dense)            (None, 128)               32896     \n",
            "                                                                 \n",
            " dense_36 (Dense)            (None, 64)                8256      \n",
            "                                                                 \n",
            " dense_37 (Dense)            (None, 100)               6500      \n",
            "                                                                 \n",
            "=================================================================\n",
            "Total params: 310052 (1.18 MB)\n",
            "Trainable params: 310052 (1.18 MB)\n",
            "Non-trainable params: 0 (0.00 Byte)\n",
            "_________________________________________________________________\n"
          ]
        }
      ]
    },
    {
      "cell_type": "code",
      "source": [
        "from tensorflow.keras.optimizers import Adam\n",
        "\n",
        "model_NN.compile(optimizer=\"Adam\", loss='categorical_crossentropy',  metrics=['accuracy'])\n",
        "history_NN = model_NN.fit(X_train_flat, y_train, epochs=50, batch_size=64, validation_data=(X_test_flat, y_test), verbose=1)\n",
        "history_analisis(history_NN)"
      ],
      "metadata": {
        "id": "1VS2bAPpLZCY",
        "colab": {
          "base_uri": "https://localhost:8080/",
          "height": 2336
        },
        "outputId": "21fa1036-e362-4b98-a2ef-c4717d864063"
      },
      "execution_count": 85,
      "outputs": [
        {
          "output_type": "stream",
          "name": "stdout",
          "text": [
            "Epoch 1/50\n",
            "782/782 [==============================] - 4s 4ms/step - loss: 4.4291 - accuracy: 0.0318 - val_loss: 4.2674 - val_accuracy: 0.0571\n",
            "Epoch 2/50\n",
            "782/782 [==============================] - 3s 4ms/step - loss: 4.1943 - accuracy: 0.0667 - val_loss: 4.1415 - val_accuracy: 0.0766\n",
            "Epoch 3/50\n",
            "782/782 [==============================] - 3s 4ms/step - loss: 4.0652 - accuracy: 0.0860 - val_loss: 4.0479 - val_accuracy: 0.0944\n",
            "Epoch 4/50\n",
            "782/782 [==============================] - 4s 5ms/step - loss: 3.9935 - accuracy: 0.0988 - val_loss: 4.0340 - val_accuracy: 0.0952\n",
            "Epoch 5/50\n",
            "782/782 [==============================] - 3s 4ms/step - loss: 3.9311 - accuracy: 0.1097 - val_loss: 3.9665 - val_accuracy: 0.1129\n",
            "Epoch 6/50\n",
            "782/782 [==============================] - 3s 4ms/step - loss: 3.8769 - accuracy: 0.1192 - val_loss: 3.9171 - val_accuracy: 0.1174\n",
            "Epoch 7/50\n",
            "782/782 [==============================] - 3s 4ms/step - loss: 3.8369 - accuracy: 0.1252 - val_loss: 3.9024 - val_accuracy: 0.1248\n",
            "Epoch 8/50\n",
            "782/782 [==============================] - 4s 5ms/step - loss: 3.7980 - accuracy: 0.1342 - val_loss: 3.8861 - val_accuracy: 0.1278\n",
            "Epoch 9/50\n",
            "782/782 [==============================] - 3s 4ms/step - loss: 3.7667 - accuracy: 0.1371 - val_loss: 3.8541 - val_accuracy: 0.1325\n",
            "Epoch 10/50\n",
            "782/782 [==============================] - 3s 4ms/step - loss: 3.7370 - accuracy: 0.1431 - val_loss: 3.8483 - val_accuracy: 0.1337\n",
            "Epoch 11/50\n",
            "782/782 [==============================] - 3s 4ms/step - loss: 3.7114 - accuracy: 0.1469 - val_loss: 3.8197 - val_accuracy: 0.1419\n",
            "Epoch 12/50\n",
            "782/782 [==============================] - 4s 5ms/step - loss: 3.6855 - accuracy: 0.1528 - val_loss: 3.8309 - val_accuracy: 0.1404\n",
            "Epoch 13/50\n",
            "782/782 [==============================] - 3s 4ms/step - loss: 3.6616 - accuracy: 0.1558 - val_loss: 3.8125 - val_accuracy: 0.1409\n",
            "Epoch 14/50\n",
            "782/782 [==============================] - 3s 4ms/step - loss: 3.6359 - accuracy: 0.1592 - val_loss: 3.8171 - val_accuracy: 0.1413\n",
            "Epoch 15/50\n",
            "782/782 [==============================] - 3s 4ms/step - loss: 3.6158 - accuracy: 0.1629 - val_loss: 3.8065 - val_accuracy: 0.1432\n",
            "Epoch 16/50\n",
            "782/782 [==============================] - 3s 4ms/step - loss: 3.5982 - accuracy: 0.1663 - val_loss: 3.8052 - val_accuracy: 0.1444\n",
            "Epoch 17/50\n",
            "782/782 [==============================] - 3s 4ms/step - loss: 3.5771 - accuracy: 0.1698 - val_loss: 3.8024 - val_accuracy: 0.1495\n",
            "Epoch 18/50\n",
            "782/782 [==============================] - 3s 4ms/step - loss: 3.5583 - accuracy: 0.1706 - val_loss: 3.8069 - val_accuracy: 0.1466\n",
            "Epoch 19/50\n",
            "782/782 [==============================] - 3s 4ms/step - loss: 3.5441 - accuracy: 0.1743 - val_loss: 3.8273 - val_accuracy: 0.1448\n",
            "Epoch 20/50\n",
            "782/782 [==============================] - 3s 4ms/step - loss: 3.5278 - accuracy: 0.1765 - val_loss: 3.7979 - val_accuracy: 0.1517\n",
            "Epoch 21/50\n",
            "782/782 [==============================] - 3s 4ms/step - loss: 3.5059 - accuracy: 0.1802 - val_loss: 3.7859 - val_accuracy: 0.1539\n",
            "Epoch 22/50\n",
            "782/782 [==============================] - 3s 4ms/step - loss: 3.4900 - accuracy: 0.1839 - val_loss: 3.7826 - val_accuracy: 0.1563\n",
            "Epoch 23/50\n",
            "782/782 [==============================] - 4s 5ms/step - loss: 3.4796 - accuracy: 0.1847 - val_loss: 3.8073 - val_accuracy: 0.1513\n",
            "Epoch 24/50\n",
            "782/782 [==============================] - 3s 4ms/step - loss: 3.4656 - accuracy: 0.1895 - val_loss: 3.8393 - val_accuracy: 0.1467\n",
            "Epoch 25/50\n",
            "782/782 [==============================] - 3s 4ms/step - loss: 3.4480 - accuracy: 0.1905 - val_loss: 3.8440 - val_accuracy: 0.1509\n",
            "Epoch 26/50\n",
            "782/782 [==============================] - 3s 4ms/step - loss: 3.4399 - accuracy: 0.1931 - val_loss: 3.8137 - val_accuracy: 0.1564\n",
            "Epoch 27/50\n",
            "782/782 [==============================] - 4s 5ms/step - loss: 3.4259 - accuracy: 0.1957 - val_loss: 3.8144 - val_accuracy: 0.1527\n",
            "Epoch 28/50\n",
            "782/782 [==============================] - 3s 4ms/step - loss: 3.4076 - accuracy: 0.1968 - val_loss: 3.8336 - val_accuracy: 0.1523\n",
            "Epoch 29/50\n",
            "782/782 [==============================] - 3s 4ms/step - loss: 3.3995 - accuracy: 0.1986 - val_loss: 3.8341 - val_accuracy: 0.1576\n",
            "Epoch 30/50\n",
            "782/782 [==============================] - 3s 4ms/step - loss: 3.3913 - accuracy: 0.1995 - val_loss: 3.8436 - val_accuracy: 0.1552\n",
            "Epoch 31/50\n",
            "782/782 [==============================] - 4s 5ms/step - loss: 3.3791 - accuracy: 0.2040 - val_loss: 3.8651 - val_accuracy: 0.1536\n",
            "Epoch 32/50\n",
            "782/782 [==============================] - 3s 4ms/step - loss: 3.3643 - accuracy: 0.2047 - val_loss: 3.8732 - val_accuracy: 0.1523\n",
            "Epoch 33/50\n",
            "782/782 [==============================] - 3s 4ms/step - loss: 3.3543 - accuracy: 0.2077 - val_loss: 3.8642 - val_accuracy: 0.1546\n",
            "Epoch 34/50\n",
            "782/782 [==============================] - 3s 4ms/step - loss: 3.3438 - accuracy: 0.2089 - val_loss: 3.8684 - val_accuracy: 0.1554\n",
            "Epoch 35/50\n",
            "782/782 [==============================] - 4s 5ms/step - loss: 3.3365 - accuracy: 0.2120 - val_loss: 3.9106 - val_accuracy: 0.1527\n",
            "Epoch 36/50\n",
            "782/782 [==============================] - 3s 4ms/step - loss: 3.3275 - accuracy: 0.2119 - val_loss: 3.9036 - val_accuracy: 0.1510\n",
            "Epoch 37/50\n",
            "782/782 [==============================] - 3s 4ms/step - loss: 3.3137 - accuracy: 0.2130 - val_loss: 3.8935 - val_accuracy: 0.1522\n",
            "Epoch 38/50\n",
            "782/782 [==============================] - 3s 4ms/step - loss: 3.3053 - accuracy: 0.2153 - val_loss: 3.9167 - val_accuracy: 0.1486\n",
            "Epoch 39/50\n",
            "782/782 [==============================] - 4s 5ms/step - loss: 3.3006 - accuracy: 0.2166 - val_loss: 3.9080 - val_accuracy: 0.1510\n",
            "Epoch 40/50\n",
            "782/782 [==============================] - 3s 4ms/step - loss: 3.2888 - accuracy: 0.2190 - val_loss: 3.9010 - val_accuracy: 0.1574\n",
            "Epoch 41/50\n",
            "782/782 [==============================] - 3s 4ms/step - loss: 3.2772 - accuracy: 0.2218 - val_loss: 3.9270 - val_accuracy: 0.1546\n",
            "Epoch 42/50\n",
            "782/782 [==============================] - 3s 4ms/step - loss: 3.2678 - accuracy: 0.2215 - val_loss: 3.9263 - val_accuracy: 0.1490\n",
            "Epoch 43/50\n",
            "782/782 [==============================] - 5s 6ms/step - loss: 3.2640 - accuracy: 0.2225 - val_loss: 3.9344 - val_accuracy: 0.1499\n",
            "Epoch 44/50\n",
            "782/782 [==============================] - 3s 4ms/step - loss: 3.2512 - accuracy: 0.2253 - val_loss: 3.9664 - val_accuracy: 0.1471\n",
            "Epoch 45/50\n",
            "782/782 [==============================] - 3s 4ms/step - loss: 3.2421 - accuracy: 0.2279 - val_loss: 3.9564 - val_accuracy: 0.1512\n",
            "Epoch 46/50\n",
            "782/782 [==============================] - 4s 5ms/step - loss: 3.2336 - accuracy: 0.2278 - val_loss: 3.9963 - val_accuracy: 0.1478\n",
            "Epoch 47/50\n",
            "782/782 [==============================] - 3s 4ms/step - loss: 3.2325 - accuracy: 0.2271 - val_loss: 4.0189 - val_accuracy: 0.1501\n",
            "Epoch 48/50\n",
            "782/782 [==============================] - 3s 4ms/step - loss: 3.2227 - accuracy: 0.2305 - val_loss: 3.9781 - val_accuracy: 0.1511\n",
            "Epoch 49/50\n",
            "782/782 [==============================] - 3s 4ms/step - loss: 3.2174 - accuracy: 0.2317 - val_loss: 3.9943 - val_accuracy: 0.1492\n",
            "Epoch 50/50\n",
            "782/782 [==============================] - 4s 5ms/step - loss: 3.2091 - accuracy: 0.2324 - val_loss: 4.0268 - val_accuracy: 0.1513\n"
          ]
        },
        {
          "output_type": "display_data",
          "data": {
            "text/plain": [
              "<Figure size 1500x700 with 2 Axes>"
            ],
            "image/png": "[encoded data removed]"
          },
          "metadata": {}
        }
      ]
    },
    {
      "cell_type": "code",
      "source": [
        "clases_NN = [str(i) for i in range(100)]\n",
        "\n",
        "y_pred = model_NN.predict(X_test_flat)\n",
        "y_pred_classes = np.argmax(y_pred, axis=1)\n",
        "y_test_classes = np.argmax(y_test, axis=1)\n",
        "\n",
        "CM_NN = confusion_matrix(y_test_classes, y_pred_classes) #, normalize='true'\n",
        "graf_confusion_matrix(CM_NN, clases_NN, 'Feed-forward Network')"
      ],
      "metadata": {
        "colab": {
          "base_uri": "https://localhost:8080/",
          "height": 712
        },
        "id": "Kwhfn2mbn8pO",
        "outputId": "ff315b20-869a-420b-bae0-62125d3a776a"
      },
      "execution_count": 86,
      "outputs": [
        {
          "output_type": "stream",
          "name": "stdout",
          "text": [
            "313/313 [==============================] - 1s 2ms/step\n"
          ]
        },
        {
          "output_type": "display_data",
          "data": {
            "text/plain": [
              "<Figure size 800x800 with 2 Axes>"
            ],
            "image/png": "[encoded data removed]"
          },
          "metadata": {}
        }
      ]
    },
    {
      "cell_type": "code",
      "source": [
        "calculo_metricas(CM_NN, clases_NN)"
      ],
      "metadata": {
        "colab": {
          "base_uri": "https://localhost:8080/",
          "height": 211
        },
        "id": "aiegCKKGoJpD",
        "outputId": "95725b4e-f8a4-4984-960f-e9f312db7a76"
      },
      "execution_count": 87,
      "outputs": [
        {
          "output_type": "stream",
          "name": "stderr",
          "text": [
            "<ipython-input-4-49590a811503>:28: RuntimeWarning: invalid value encountered in scalar divide\n",
            "  f = 2 * (r * p) / (r + p)\n"
          ]
        },
        {
          "output_type": "execute_result",
          "data": {
            "text/plain": [
              "     Métrica    Máximo    Mínimo  Promedio\n",
              "0   Accuracy  0.988900  0.960400  0.983026\n",
              "1  Precision  0.448598  0.000000  0.139400\n",
              "2     Recall  0.570000  0.000000  0.151300\n",
              "3   F1-Score  0.463768  0.012048       NaN"
            ],
            "text/html": [
              "\n",
              "  <div id=\"df-669f6bfb-09a5-49e4-942d-0e35277b4bc7\" class=\"colab-df-container\">\n",
              "    <div>\n",
              "<style scoped>\n",
              "    .dataframe tbody tr th:only-of-type {\n",
              "        vertical-align: middle;\n",
              "    }\n",
              "\n",
              "    .dataframe tbody tr th {\n",
              "        vertical-align: top;\n",
              "    }\n",
              "\n",
              "    .dataframe thead th {\n",
              "        text-align: right;\n",
              "    }\n",
              "</style>\n",
              "<table border=\"1\" class=\"dataframe\">\n",
              "  <thead>\n",
              "    <tr style=\"text-align: right;\">\n",
              "      <th></th>\n",
              "      <th>Métrica</th>\n",
              "      <th>Máximo</th>\n",
              "      <th>Mínimo</th>\n",
              "      <th>Promedio</th>\n",
              "    </tr>\n",
              "  </thead>\n",
              "  <tbody>\n",
              "    <tr>\n",
              "      <th>0</th>\n",
              "      <td>Accuracy</td>\n",
              "      <td>0.988900</td>\n",
              "      <td>0.960400</td>\n",
              "      <td>0.983026</td>\n",
              "    </tr>\n",
              "    <tr>\n",
              "      <th>1</th>\n",
              "      <td>Precision</td>\n",
              "      <td>0.448598</td>\n",
              "      <td>0.000000</td>\n",
              "      <td>0.139400</td>\n",
              "    </tr>\n",
              "    <tr>\n",
              "      <th>2</th>\n",
              "      <td>Recall</td>\n",
              "      <td>0.570000</td>\n",
              "      <td>0.000000</td>\n",
              "      <td>0.151300</td>\n",
              "    </tr>\n",
              "    <tr>\n",
              "      <th>3</th>\n",
              "      <td>F1-Score</td>\n",
              "      <td>0.463768</td>\n",
              "      <td>0.012048</td>\n",
              "      <td>NaN</td>\n",
              "    </tr>\n",
              "  </tbody>\n",
              "</table>\n",
              "</div>\n",
              "    <div class=\"colab-df-buttons\">\n",
              "\n",
              "  <div class=\"colab-df-container\">\n",
              "    <button class=\"colab-df-convert\" onclick=\"convertToInteractive('df-669f6bfb-09a5-49e4-942d-0e35277b4bc7')\"\n",
              "            title=\"Convert this dataframe to an interactive table.\"\n",
              "            style=\"display:none;\">\n",
              "\n",
              "  <svg xmlns=\"http://www.w3.org/2000/svg\" height=\"24px\" viewBox=\"0 -960 960 960\">\n",
              "    <path d=\"M120-120v-720h720v720H120Zm60-500h600v-160H180v160Zm220 220h160v-160H400v160Zm0 220h160v-160H400v160ZM180-400h160v-160H180v160Zm440 0h160v-160H620v160ZM180-180h160v-160H180v160Zm440 0h160v-160H620v160Z\"/>\n",
              "  </svg>\n",
              "    </button>\n",
              "\n",
              "  <style>\n",
              "    .colab-df-container {\n",
              "      display:flex;\n",
              "      gap: 12px;\n",
              "    }\n",
              "\n",
              "    .colab-df-convert {\n",
              "      background-color: #E8F0FE;\n",
              "      border: none;\n",
              "      border-radius: 50%;\n",
              "      cursor: pointer;\n",
              "      display: none;\n",
              "      fill: #1967D2;\n",
              "      height: 32px;\n",
              "      padding: 0 0 0 0;\n",
              "      width: 32px;\n",
              "    }\n",
              "\n",
              "    .colab-df-convert:hover {\n",
              "      background-color: #E2EBFA;\n",
              "      box-shadow: 0px 1px 2px rgba(60, 64, 67, 0.3), 0px 1px 3px 1px rgba(60, 64, 67, 0.15);\n",
              "      fill: #174EA6;\n",
              "    }\n",
              "\n",
              "    .colab-df-buttons div {\n",
              "      margin-bottom: 4px;\n",
              "    }\n",
              "\n",
              "    [theme=dark] .colab-df-convert {\n",
              "      background-color: #3B4455;\n",
              "      fill: #D2E3FC;\n",
              "    }\n",
              "\n",
              "    [theme=dark] .colab-df-convert:hover {\n",
              "      background-color: #434B5C;\n",
              "      box-shadow: 0px 1px 3px 1px rgba(0, 0, 0, 0.15);\n",
              "      filter: drop-shadow(0px 1px 2px rgba(0, 0, 0, 0.3));\n",
              "      fill: #FFFFFF;\n",
              "    }\n",
              "  </style>\n",
              "\n",
              "    <script>\n",
              "      const buttonEl =\n",
              "        document.querySelector('#df-669f6bfb-09a5-49e4-942d-0e35277b4bc7 button.colab-df-convert');\n",
              "      buttonEl.style.display =\n",
              "        google.colab.kernel.accessAllowed ? 'block' : 'none';\n",
              "\n",
              "      async function convertToInteractive(key) {\n",
              "        const element = document.querySelector('#df-669f6bfb-09a5-49e4-942d-0e35277b4bc7');\n",
              "        const dataTable =\n",
              "          await google.colab.kernel.invokeFunction('convertToInteractive',\n",
              "                                                    [key], {});\n",
              "        if (!dataTable) return;\n",
              "\n",
              "        const docLinkHtml = 'Like what you see? Visit the ' +\n",
              "          '<a target=\"_blank\" href=https://colab.research.google.com/notebooks/data_table.ipynb>data table notebook</a>'\n",
              "          + ' to learn more about interactive tables.';\n",
              "        element.innerHTML = '';\n",
              "        dataTable['output_type'] = 'display_data';\n",
              "        await google.colab.output.renderOutput(dataTable, element);\n",
              "        const docLink = document.createElement('div');\n",
              "        docLink.innerHTML = docLinkHtml;\n",
              "        element.appendChild(docLink);\n",
              "      }\n",
              "    </script>\n",
              "  </div>\n",
              "\n",
              "\n",
              "<div id=\"df-d8ad3a84-23a3-421f-b4e9-11f69429b831\">\n",
              "  <button class=\"colab-df-quickchart\" onclick=\"quickchart('df-d8ad3a84-23a3-421f-b4e9-11f69429b831')\"\n",
              "            title=\"Suggest charts\"\n",
              "            style=\"display:none;\">\n",
              "\n",
              "<svg xmlns=\"http://www.w3.org/2000/svg\" height=\"24px\"viewBox=\"0 0 24 24\"\n",
              "     width=\"24px\">\n",
              "    <g>\n",
              "        <path d=\"M19 3H5c-1.1 0-2 .9-2 2v14c0 1.1.9 2 2 2h14c1.1 0 2-.9 2-2V5c0-1.1-.9-2-2-2zM9 17H7v-7h2v7zm4 0h-2V7h2v10zm4 0h-2v-4h2v4z\"/>\n",
              "    </g>\n",
              "</svg>\n",
              "  </button>\n",
              "\n",
              "<style>\n",
              "  .colab-df-quickchart {\n",
              "      --bg-color: #E8F0FE;\n",
              "      --fill-color: #1967D2;\n",
              "      --hover-bg-color: #E2EBFA;\n",
              "      --hover-fill-color: #174EA6;\n",
              "      --disabled-fill-color: #AAA;\n",
              "      --disabled-bg-color: #DDD;\n",
              "  }\n",
              "\n",
              "  [theme=dark] .colab-df-quickchart {\n",
              "      --bg-color: #3B4455;\n",
              "      --fill-color: #D2E3FC;\n",
              "      --hover-bg-color: #434B5C;\n",
              "      --hover-fill-color: #FFFFFF;\n",
              "      --disabled-bg-color: #3B4455;\n",
              "      --disabled-fill-color: #666;\n",
              "  }\n",
              "\n",
              "  .colab-df-quickchart {\n",
              "    background-color: var(--bg-color);\n",
              "    border: none;\n",
              "    border-radius: 50%;\n",
              "    cursor: pointer;\n",
              "    display: none;\n",
              "    fill: var(--fill-color);\n",
              "    height: 32px;\n",
              "    padding: 0;\n",
              "    width: 32px;\n",
              "  }\n",
              "\n",
              "  .colab-df-quickchart:hover {\n",
              "    background-color: var(--hover-bg-color);\n",
              "    box-shadow: 0 1px 2px rgba(60, 64, 67, 0.3), 0 1px 3px 1px rgba(60, 64, 67, 0.15);\n",
              "    fill: var(--button-hover-fill-color);\n",
              "  }\n",
              "\n",
              "  .colab-df-quickchart-complete:disabled,\n",
              "  .colab-df-quickchart-complete:disabled:hover {\n",
              "    background-color: var(--disabled-bg-color);\n",
              "    fill: var(--disabled-fill-color);\n",
              "    box-shadow: none;\n",
              "  }\n",
              "\n",
              "  .colab-df-spinner {\n",
              "    border: 2px solid var(--fill-color);\n",
              "    border-color: transparent;\n",
              "    border-bottom-color: var(--fill-color);\n",
              "    animation:\n",
              "      spin 1s steps(1) infinite;\n",
              "  }\n",
              "\n",
              "  @keyframes spin {\n",
              "    0% {\n",
              "      border-color: transparent;\n",
              "      border-bottom-color: var(--fill-color);\n",
              "      border-left-color: var(--fill-color);\n",
              "    }\n",
              "    20% {\n",
              "      border-color: transparent;\n",
              "      border-left-color: var(--fill-color);\n",
              "      border-top-color: var(--fill-color);\n",
              "    }\n",
              "    30% {\n",
              "      border-color: transparent;\n",
              "      border-left-color: var(--fill-color);\n",
              "      border-top-color: var(--fill-color);\n",
              "      border-right-color: var(--fill-color);\n",
              "    }\n",
              "    40% {\n",
              "      border-color: transparent;\n",
              "      border-right-color: var(--fill-color);\n",
              "      border-top-color: var(--fill-color);\n",
              "    }\n",
              "    60% {\n",
              "      border-color: transparent;\n",
              "      border-right-color: var(--fill-color);\n",
              "    }\n",
              "    80% {\n",
              "      border-color: transparent;\n",
              "      border-right-color: var(--fill-color);\n",
              "      border-bottom-color: var(--fill-color);\n",
              "    }\n",
              "    90% {\n",
              "      border-color: transparent;\n",
              "      border-bottom-color: var(--fill-color);\n",
              "    }\n",
              "  }\n",
              "</style>\n",
              "\n",
              "  <script>\n",
              "    async function quickchart(key) {\n",
              "      const quickchartButtonEl =\n",
              "        document.querySelector('#' + key + ' button');\n",
              "      quickchartButtonEl.disabled = true;  // To prevent multiple clicks.\n",
              "      quickchartButtonEl.classList.add('colab-df-spinner');\n",
              "      try {\n",
              "        const charts = await google.colab.kernel.invokeFunction(\n",
              "            'suggestCharts', [key], {});\n",
              "      } catch (error) {\n",
              "        console.error('Error during call to suggestCharts:', error);\n",
              "      }\n",
              "      quickchartButtonEl.classList.remove('colab-df-spinner');\n",
              "      quickchartButtonEl.classList.add('colab-df-quickchart-complete');\n",
              "    }\n",
              "    (() => {\n",
              "      let quickchartButtonEl =\n",
              "        document.querySelector('#df-d8ad3a84-23a3-421f-b4e9-11f69429b831 button');\n",
              "      quickchartButtonEl.style.display =\n",
              "        google.colab.kernel.accessAllowed ? 'block' : 'none';\n",
              "    })();\n",
              "  </script>\n",
              "</div>\n",
              "\n",
              "    </div>\n",
              "  </div>\n"
            ],
            "application/vnd.google.colaboratory.intrinsic+json": {
              "type": "dataframe",
              "summary": "{\n  \"name\": \"calculo_metricas(CM_NN, clases_NN)\",\n  \"rows\": 4,\n  \"fields\": [\n    {\n      \"column\": \"M\\u00e9trica\",\n      \"properties\": {\n        \"dtype\": \"string\",\n        \"num_unique_values\": 4,\n        \"samples\": [\n          \"Precision\",\n          \"F1-Score\",\n          \"Accuracy\"\n        ],\n        \"semantic_type\": \"\",\n        \"description\": \"\"\n      }\n    },\n    {\n      \"column\": \"M\\u00e1ximo\",\n      \"properties\": {\n        \"dtype\": \"number\",\n        \"std\": 0.253216075540336,\n        \"min\": 0.4485981308411215,\n        \"max\": 0.9889,\n        \"num_unique_values\": 4,\n        \"samples\": [\n          0.4485981308411215,\n          0.463768115942029,\n          0.9889\n        ],\n        \"semantic_type\": \"\",\n        \"description\": \"\"\n      }\n    },\n    {\n      \"column\": \"M\\u00ednimo\",\n      \"properties\": {\n        \"dtype\": \"number\",\n        \"std\": 0.47822569533750214,\n        \"min\": 0.0,\n        \"max\": 0.9604,\n        \"num_unique_values\": 3,\n        \"samples\": [\n          0.9604,\n          0.0,\n          0.012048192771084336\n        ],\n        \"semantic_type\": \"\",\n        \"description\": \"\"\n      }\n    },\n    {\n      \"column\": \"Promedio\",\n      \"properties\": {\n        \"dtype\": \"number\",\n        \"std\": 0.483669191823873,\n        \"min\": 0.1393995641482723,\n        \"max\": 0.9830260000000002,\n        \"num_unique_values\": 3,\n        \"samples\": [\n          0.9830260000000002,\n          0.1393995641482723,\n          0.15130000000000002\n        ],\n        \"semantic_type\": \"\",\n        \"description\": \"\"\n      }\n    }\n  ]\n}"
            }
          },
          "metadata": {},
          "execution_count": 87
        }
      ]
    },
    {
      "cell_type": "markdown",
      "source": [
        "**2. Modelo con CNN **"
      ],
      "metadata": {
        "id": "Zt8XBZngMohq"
      }
    },
    {
      "cell_type": "code",
      "source": [
        "(X_train, y_train), (X_test, y_test) = cifar100.load_data()"
      ],
      "metadata": {
        "id": "vZ3jrBauMyFl"
      },
      "execution_count": 64,
      "outputs": []
    },
    {
      "cell_type": "code",
      "source": [
        "import tensorflow as tf\n",
        "from tensorflow.keras.layers import Conv2D, MaxPooling2D, Flatten, Dense, Dropout\n",
        "from tensorflow.keras.regularizers import l2\n",
        "\n",
        "model_CNN = keras.Sequential()\n",
        "model_CNN.add(Conv2D(64, (3, 3), activation='relu', input_shape=(32, 32, 3)))\n",
        "model_CNN.add(MaxPool2D((2, 2)))\n",
        "\n",
        "model_CNN.add(Conv2D(128, (3, 3), activation='relu'))\n",
        "model_CNN.add(MaxPool2D((2, 2)))\n",
        "model_CNN.add(Dropout(0.4))\n",
        "model_CNN.add(Conv2D(256, (3, 3), activation='relu'))\n",
        "model_CNN.add(Dropout(0.2))\n",
        "model_CNN.add(MaxPool2D((2, 2)))\n",
        "model_CNN.add(Flatten())\n",
        "model_CNN.add(Dense(512, activation='relu', kernel_regularizer=l2(0.001)))\n",
        "model_CNN.add(Dense(100, activation='softmax'))\n",
        "\n",
        "model_CNN.summary()\n"
      ],
      "metadata": {
        "id": "rahKjv5sMr8M",
        "colab": {
          "base_uri": "https://localhost:8080/",
          "height": 0
        },
        "outputId": "c085a24c-f113-4812-fa07-0f8c21a64e05"
      },
      "execution_count": 65,
      "outputs": [
        {
          "output_type": "stream",
          "name": "stdout",
          "text": [
            "Model: \"sequential_15\"\n",
            "_________________________________________________________________\n",
            " Layer (type)                Output Shape              Param #   \n",
            "=================================================================\n",
            " conv2d_34 (Conv2D)          (None, 30, 30, 64)        1792      \n",
            "                                                                 \n",
            " max_pooling2d_32 (MaxPooli  (None, 15, 15, 64)        0         \n",
            " ng2D)                                                           \n",
            "                                                                 \n",
            " conv2d_35 (Conv2D)          (None, 13, 13, 128)       73856     \n",
            "                                                                 \n",
            " max_pooling2d_33 (MaxPooli  (None, 6, 6, 128)         0         \n",
            " ng2D)                                                           \n",
            "                                                                 \n",
            " dropout_9 (Dropout)         (None, 6, 6, 128)         0         \n",
            "                                                                 \n",
            " conv2d_36 (Conv2D)          (None, 4, 4, 256)         295168    \n",
            "                                                                 \n",
            " dropout_10 (Dropout)        (None, 4, 4, 256)         0         \n",
            "                                                                 \n",
            " max_pooling2d_34 (MaxPooli  (None, 2, 2, 256)         0         \n",
            " ng2D)                                                           \n",
            "                                                                 \n",
            " flatten_12 (Flatten)        (None, 1024)              0         \n",
            "                                                                 \n",
            " dense_28 (Dense)            (None, 512)               524800    \n",
            "                                                                 \n",
            " dense_29 (Dense)            (None, 100)               51300     \n",
            "                                                                 \n",
            "=================================================================\n",
            "Total params: 946916 (3.61 MB)\n",
            "Trainable params: 946916 (3.61 MB)\n",
            "Non-trainable params: 0 (0.00 Byte)\n",
            "_________________________________________________________________\n"
          ]
        }
      ]
    },
    {
      "cell_type": "code",
      "source": [
        "model_CNN.compile(loss='sparse_categorical_crossentropy', optimizer='adam', metrics=['accuracy'])\n",
        "history_CNN = model_CNN.fit(X_train, y_train, epochs=50, batch_size=64, validation_data=(X_test, y_test))"
      ],
      "metadata": {
        "id": "qXh7blppM010",
        "colab": {
          "base_uri": "https://localhost:8080/",
          "height": 0
        },
        "outputId": "43b0c1d7-cba2-498e-a6c9-19cef85ec137"
      },
      "execution_count": 66,
      "outputs": [
        {
          "output_type": "stream",
          "name": "stdout",
          "text": [
            "Epoch 1/50\n",
            "782/782 [==============================] - 7s 7ms/step - loss: 5.3093 - accuracy: 0.0274 - val_loss: 4.7744 - val_accuracy: 0.0378\n",
            "Epoch 2/50\n",
            "782/782 [==============================] - 6s 7ms/step - loss: 4.4875 - accuracy: 0.0731 - val_loss: 4.3282 - val_accuracy: 0.1032\n",
            "Epoch 3/50\n",
            "782/782 [==============================] - 5s 7ms/step - loss: 4.0444 - accuracy: 0.1318 - val_loss: 3.8194 - val_accuracy: 0.1816\n",
            "Epoch 4/50\n",
            "782/782 [==============================] - 6s 7ms/step - loss: 3.6335 - accuracy: 0.1957 - val_loss: 3.4693 - val_accuracy: 0.2504\n",
            "Epoch 5/50\n",
            "782/782 [==============================] - 6s 7ms/step - loss: 3.3501 - accuracy: 0.2420 - val_loss: 3.2932 - val_accuracy: 0.2662\n",
            "Epoch 6/50\n",
            "782/782 [==============================] - 5s 7ms/step - loss: 3.1638 - accuracy: 0.2752 - val_loss: 3.1946 - val_accuracy: 0.2907\n",
            "Epoch 7/50\n",
            "782/782 [==============================] - 6s 8ms/step - loss: 3.0508 - accuracy: 0.2951 - val_loss: 3.0900 - val_accuracy: 0.3116\n",
            "Epoch 8/50\n",
            "782/782 [==============================] - 5s 7ms/step - loss: 2.9411 - accuracy: 0.3155 - val_loss: 2.9544 - val_accuracy: 0.3386\n",
            "Epoch 9/50\n",
            "782/782 [==============================] - 7s 9ms/step - loss: 2.8523 - accuracy: 0.3344 - val_loss: 2.9065 - val_accuracy: 0.3369\n",
            "Epoch 10/50\n",
            "782/782 [==============================] - 5s 7ms/step - loss: 2.8001 - accuracy: 0.3487 - val_loss: 2.8600 - val_accuracy: 0.3480\n",
            "Epoch 11/50\n",
            "782/782 [==============================] - 7s 9ms/step - loss: 2.7592 - accuracy: 0.3571 - val_loss: 2.8413 - val_accuracy: 0.3573\n",
            "Epoch 12/50\n",
            "782/782 [==============================] - 6s 7ms/step - loss: 2.7303 - accuracy: 0.3670 - val_loss: 2.8366 - val_accuracy: 0.3582\n",
            "Epoch 13/50\n",
            "782/782 [==============================] - 6s 7ms/step - loss: 2.6783 - accuracy: 0.3790 - val_loss: 2.8937 - val_accuracy: 0.3524\n",
            "Epoch 14/50\n",
            "782/782 [==============================] - 7s 9ms/step - loss: 2.6547 - accuracy: 0.3874 - val_loss: 2.7921 - val_accuracy: 0.3784\n",
            "Epoch 15/50\n",
            "782/782 [==============================] - 8s 10ms/step - loss: 2.6262 - accuracy: 0.3915 - val_loss: 2.7739 - val_accuracy: 0.3786\n",
            "Epoch 16/50\n",
            "782/782 [==============================] - 5s 7ms/step - loss: 2.5935 - accuracy: 0.4001 - val_loss: 2.7931 - val_accuracy: 0.3680\n",
            "Epoch 17/50\n",
            "782/782 [==============================] - 6s 7ms/step - loss: 2.5601 - accuracy: 0.4072 - val_loss: 2.7368 - val_accuracy: 0.3838\n",
            "Epoch 18/50\n",
            "782/782 [==============================] - 6s 7ms/step - loss: 2.5412 - accuracy: 0.4114 - val_loss: 2.7952 - val_accuracy: 0.3786\n",
            "Epoch 19/50\n",
            "782/782 [==============================] - 6s 7ms/step - loss: 2.5361 - accuracy: 0.4144 - val_loss: 2.8186 - val_accuracy: 0.3740\n",
            "Epoch 20/50\n",
            "782/782 [==============================] - 6s 7ms/step - loss: 2.5108 - accuracy: 0.4213 - val_loss: 2.8096 - val_accuracy: 0.3690\n",
            "Epoch 21/50\n",
            "782/782 [==============================] - 5s 7ms/step - loss: 2.4903 - accuracy: 0.4263 - val_loss: 2.7952 - val_accuracy: 0.3791\n",
            "Epoch 22/50\n",
            "782/782 [==============================] - 6s 7ms/step - loss: 2.4972 - accuracy: 0.4272 - val_loss: 2.8275 - val_accuracy: 0.3768\n",
            "Epoch 23/50\n",
            "782/782 [==============================] - 5s 7ms/step - loss: 2.4773 - accuracy: 0.4330 - val_loss: 2.6876 - val_accuracy: 0.3981\n",
            "Epoch 24/50\n",
            "782/782 [==============================] - 6s 7ms/step - loss: 2.4594 - accuracy: 0.4351 - val_loss: 2.7752 - val_accuracy: 0.3839\n",
            "Epoch 25/50\n",
            "782/782 [==============================] - 6s 7ms/step - loss: 2.4521 - accuracy: 0.4402 - val_loss: 2.7700 - val_accuracy: 0.3929\n",
            "Epoch 26/50\n",
            "782/782 [==============================] - 6s 8ms/step - loss: 2.4593 - accuracy: 0.4367 - val_loss: 2.7305 - val_accuracy: 0.4018\n",
            "Epoch 27/50\n",
            "782/782 [==============================] - 5s 7ms/step - loss: 2.4245 - accuracy: 0.4463 - val_loss: 2.7365 - val_accuracy: 0.3950\n",
            "Epoch 28/50\n",
            "782/782 [==============================] - 6s 7ms/step - loss: 2.4238 - accuracy: 0.4459 - val_loss: 2.7347 - val_accuracy: 0.4005\n",
            "Epoch 29/50\n",
            "782/782 [==============================] - 5s 7ms/step - loss: 2.4095 - accuracy: 0.4511 - val_loss: 2.7367 - val_accuracy: 0.4015\n",
            "Epoch 30/50\n",
            "782/782 [==============================] - 7s 8ms/step - loss: 2.4135 - accuracy: 0.4504 - val_loss: 2.8037 - val_accuracy: 0.3827\n",
            "Epoch 31/50\n",
            "782/782 [==============================] - 5s 7ms/step - loss: 2.3940 - accuracy: 0.4541 - val_loss: 2.8135 - val_accuracy: 0.3844\n",
            "Epoch 32/50\n",
            "782/782 [==============================] - 5s 7ms/step - loss: 2.3976 - accuracy: 0.4575 - val_loss: 2.8122 - val_accuracy: 0.3888\n",
            "Epoch 33/50\n",
            "782/782 [==============================] - 6s 8ms/step - loss: 2.3783 - accuracy: 0.4589 - val_loss: 2.7888 - val_accuracy: 0.3919\n",
            "Epoch 34/50\n",
            "782/782 [==============================] - 6s 7ms/step - loss: 2.3863 - accuracy: 0.4575 - val_loss: 2.8518 - val_accuracy: 0.3733\n",
            "Epoch 35/50\n",
            "782/782 [==============================] - 6s 7ms/step - loss: 2.3818 - accuracy: 0.4602 - val_loss: 2.8395 - val_accuracy: 0.3850\n",
            "Epoch 36/50\n",
            "782/782 [==============================] - 6s 7ms/step - loss: 2.3695 - accuracy: 0.4619 - val_loss: 2.8155 - val_accuracy: 0.3942\n",
            "Epoch 37/50\n",
            "782/782 [==============================] - 6s 8ms/step - loss: 2.3791 - accuracy: 0.4603 - val_loss: 2.7764 - val_accuracy: 0.3964\n",
            "Epoch 38/50\n",
            "782/782 [==============================] - 5s 7ms/step - loss: 2.3641 - accuracy: 0.4652 - val_loss: 2.8657 - val_accuracy: 0.3739\n",
            "Epoch 39/50\n",
            "782/782 [==============================] - 6s 7ms/step - loss: 2.3594 - accuracy: 0.4666 - val_loss: 2.7889 - val_accuracy: 0.3968\n",
            "Epoch 40/50\n",
            "782/782 [==============================] - 6s 7ms/step - loss: 2.3588 - accuracy: 0.4673 - val_loss: 2.7449 - val_accuracy: 0.4045\n",
            "Epoch 41/50\n",
            "782/782 [==============================] - 6s 7ms/step - loss: 2.3485 - accuracy: 0.4681 - val_loss: 2.7958 - val_accuracy: 0.3943\n",
            "Epoch 42/50\n",
            "782/782 [==============================] - 6s 7ms/step - loss: 2.3430 - accuracy: 0.4703 - val_loss: 2.7771 - val_accuracy: 0.4013\n",
            "Epoch 43/50\n",
            "782/782 [==============================] - 5s 7ms/step - loss: 2.3311 - accuracy: 0.4720 - val_loss: 2.7451 - val_accuracy: 0.4142\n",
            "Epoch 44/50\n",
            "782/782 [==============================] - 6s 8ms/step - loss: 2.3441 - accuracy: 0.4741 - val_loss: 2.7585 - val_accuracy: 0.4037\n",
            "Epoch 45/50\n",
            "782/782 [==============================] - 6s 7ms/step - loss: 2.3322 - accuracy: 0.4742 - val_loss: 2.8109 - val_accuracy: 0.3930\n",
            "Epoch 46/50\n",
            "782/782 [==============================] - 6s 8ms/step - loss: 2.3212 - accuracy: 0.4768 - val_loss: 2.8212 - val_accuracy: 0.3975\n",
            "Epoch 47/50\n",
            "782/782 [==============================] - 6s 7ms/step - loss: 2.3258 - accuracy: 0.4778 - val_loss: 2.7723 - val_accuracy: 0.4054\n",
            "Epoch 48/50\n",
            "782/782 [==============================] - 6s 7ms/step - loss: 2.3298 - accuracy: 0.4766 - val_loss: 2.7746 - val_accuracy: 0.4063\n",
            "Epoch 49/50\n",
            "782/782 [==============================] - 6s 7ms/step - loss: 2.3129 - accuracy: 0.4793 - val_loss: 2.7698 - val_accuracy: 0.4029\n",
            "Epoch 50/50\n",
            "782/782 [==============================] - 6s 8ms/step - loss: 2.3067 - accuracy: 0.4849 - val_loss: 2.9036 - val_accuracy: 0.3803\n"
          ]
        }
      ]
    },
    {
      "cell_type": "code",
      "source": [
        "history_analisis(history_CNN)"
      ],
      "metadata": {
        "colab": {
          "base_uri": "https://localhost:8080/",
          "height": 541
        },
        "id": "ROGI-MS8kd6A",
        "outputId": "a780d526-ce3b-4b1a-97e2-b68b6d79da1e"
      },
      "execution_count": 67,
      "outputs": [
        {
          "output_type": "display_data",
          "data": {
            "text/plain": [
              "<Figure size 1500x700 with 2 Axes>"
            ],
            "image/png": "[encoded data removed]"
          },
          "metadata": {}
        }
      ]
    },
    {
      "cell_type": "code",
      "source": [
        "clases_CNN = [str(i) for i in range(100)]\n",
        "\n",
        "y_pred5 = model_CNN.predict(X_test)\n",
        "y_pred6 = np.argmax(y_pred5, axis=1)\n",
        "\n",
        "CM_CNN = confusion_matrix(y_test, y_pred6) #, normalize='true'\n",
        "\n",
        "graf_confusion_matrix(CM_CNN, clases_CNN, 'Convolutional Neural Network')"
      ],
      "metadata": {
        "id": "KZx8L-AqNHWy",
        "colab": {
          "base_uri": "https://localhost:8080/",
          "height": 712
        },
        "outputId": "375c58aa-f8ef-467c-bcb9-bd1e17a5f376"
      },
      "execution_count": 68,
      "outputs": [
        {
          "output_type": "stream",
          "name": "stdout",
          "text": [
            "313/313 [==============================] - 1s 2ms/step\n"
          ]
        },
        {
          "output_type": "display_data",
          "data": {
            "text/plain": [
              "<Figure size 800x800 with 2 Axes>"
            ],
            "image/png": "[encoded data removed]"
          },
          "metadata": {}
        }
      ]
    },
    {
      "cell_type": "code",
      "source": [
        "calculo_metricas(CM_CNN, clases_CNN)"
      ],
      "metadata": {
        "colab": {
          "base_uri": "https://localhost:8080/",
          "height": 175
        },
        "id": "B6YwdF13l5Qo",
        "outputId": "291b9954-d559-495d-bd9f-269e82d380dd"
      },
      "execution_count": 69,
      "outputs": [
        {
          "output_type": "execute_result",
          "data": {
            "text/plain": [
              "     Métrica    Máximo    Mínimo  Promedio\n",
              "0   Accuracy  0.994800  0.963400  0.987606\n",
              "1  Precision  0.808824  0.123077  0.416268\n",
              "2     Recall  0.750000  0.040000  0.380300\n",
              "3   F1-Score  0.711111  0.068376  0.381428"
            ],
            "text/html": [
              "\n",
              "  <div id=\"df-5b67fce4-fe75-43f7-8635-9bdf8fba8682\" class=\"colab-df-container\">\n",
              "    <div>\n",
              "<style scoped>\n",
              "    .dataframe tbody tr th:only-of-type {\n",
              "        vertical-align: middle;\n",
              "    }\n",
              "\n",
              "    .dataframe tbody tr th {\n",
              "        vertical-align: top;\n",
              "    }\n",
              "\n",
              "    .dataframe thead th {\n",
              "        text-align: right;\n",
              "    }\n",
              "</style>\n",
              "<table border=\"1\" class=\"dataframe\">\n",
              "  <thead>\n",
              "    <tr style=\"text-align: right;\">\n",
              "      <th></th>\n",
              "      <th>Métrica</th>\n",
              "      <th>Máximo</th>\n",
              "      <th>Mínimo</th>\n",
              "      <th>Promedio</th>\n",
              "    </tr>\n",
              "  </thead>\n",
              "  <tbody>\n",
              "    <tr>\n",
              "      <th>0</th>\n",
              "      <td>Accuracy</td>\n",
              "      <td>0.994800</td>\n",
              "      <td>0.963400</td>\n",
              "      <td>0.987606</td>\n",
              "    </tr>\n",
              "    <tr>\n",
              "      <th>1</th>\n",
              "      <td>Precision</td>\n",
              "      <td>0.808824</td>\n",
              "      <td>0.123077</td>\n",
              "      <td>0.416268</td>\n",
              "    </tr>\n",
              "    <tr>\n",
              "      <th>2</th>\n",
              "      <td>Recall</td>\n",
              "      <td>0.750000</td>\n",
              "      <td>0.040000</td>\n",
              "      <td>0.380300</td>\n",
              "    </tr>\n",
              "    <tr>\n",
              "      <th>3</th>\n",
              "      <td>F1-Score</td>\n",
              "      <td>0.711111</td>\n",
              "      <td>0.068376</td>\n",
              "      <td>0.381428</td>\n",
              "    </tr>\n",
              "  </tbody>\n",
              "</table>\n",
              "</div>\n",
              "    <div class=\"colab-df-buttons\">\n",
              "\n",
              "  <div class=\"colab-df-container\">\n",
              "    <button class=\"colab-df-convert\" onclick=\"convertToInteractive('df-5b67fce4-fe75-43f7-8635-9bdf8fba8682')\"\n",
              "            title=\"Convert this dataframe to an interactive table.\"\n",
              "            style=\"display:none;\">\n",
              "\n",
              "  <svg xmlns=\"http://www.w3.org/2000/svg\" height=\"24px\" viewBox=\"0 -960 960 960\">\n",
              "    <path d=\"M120-120v-720h720v720H120Zm60-500h600v-160H180v160Zm220 220h160v-160H400v160Zm0 220h160v-160H400v160ZM180-400h160v-160H180v160Zm440 0h160v-160H620v160ZM180-180h160v-160H180v160Zm440 0h160v-160H620v160Z\"/>\n",
              "  </svg>\n",
              "    </button>\n",
              "\n",
              "  <style>\n",
              "    .colab-df-container {\n",
              "      display:flex;\n",
              "      gap: 12px;\n",
              "    }\n",
              "\n",
              "    .colab-df-convert {\n",
              "      background-color: #E8F0FE;\n",
              "      border: none;\n",
              "      border-radius: 50%;\n",
              "      cursor: pointer;\n",
              "      display: none;\n",
              "      fill: #1967D2;\n",
              "      height: 32px;\n",
              "      padding: 0 0 0 0;\n",
              "      width: 32px;\n",
              "    }\n",
              "\n",
              "    .colab-df-convert:hover {\n",
              "      background-color: #E2EBFA;\n",
              "      box-shadow: 0px 1px 2px rgba(60, 64, 67, 0.3), 0px 1px 3px 1px rgba(60, 64, 67, 0.15);\n",
              "      fill: #174EA6;\n",
              "    }\n",
              "\n",
              "    .colab-df-buttons div {\n",
              "      margin-bottom: 4px;\n",
              "    }\n",
              "\n",
              "    [theme=dark] .colab-df-convert {\n",
              "      background-color: #3B4455;\n",
              "      fill: #D2E3FC;\n",
              "    }\n",
              "\n",
              "    [theme=dark] .colab-df-convert:hover {\n",
              "      background-color: #434B5C;\n",
              "      box-shadow: 0px 1px 3px 1px rgba(0, 0, 0, 0.15);\n",
              "      filter: drop-shadow(0px 1px 2px rgba(0, 0, 0, 0.3));\n",
              "      fill: #FFFFFF;\n",
              "    }\n",
              "  </style>\n",
              "\n",
              "    <script>\n",
              "      const buttonEl =\n",
              "        document.querySelector('#df-5b67fce4-fe75-43f7-8635-9bdf8fba8682 button.colab-df-convert');\n",
              "      buttonEl.style.display =\n",
              "        google.colab.kernel.accessAllowed ? 'block' : 'none';\n",
              "\n",
              "      async function convertToInteractive(key) {\n",
              "        const element = document.querySelector('#df-5b67fce4-fe75-43f7-8635-9bdf8fba8682');\n",
              "        const dataTable =\n",
              "          await google.colab.kernel.invokeFunction('convertToInteractive',\n",
              "                                                    [key], {});\n",
              "        if (!dataTable) return;\n",
              "\n",
              "        const docLinkHtml = 'Like what you see? Visit the ' +\n",
              "          '<a target=\"_blank\" href=https://colab.research.google.com/notebooks/data_table.ipynb>data table notebook</a>'\n",
              "          + ' to learn more about interactive tables.';\n",
              "        element.innerHTML = '';\n",
              "        dataTable['output_type'] = 'display_data';\n",
              "        await google.colab.output.renderOutput(dataTable, element);\n",
              "        const docLink = document.createElement('div');\n",
              "        docLink.innerHTML = docLinkHtml;\n",
              "        element.appendChild(docLink);\n",
              "      }\n",
              "    </script>\n",
              "  </div>\n",
              "\n",
              "\n",
              "<div id=\"df-0b166a2d-32aa-4249-a5dc-cd585d47c9e6\">\n",
              "  <button class=\"colab-df-quickchart\" onclick=\"quickchart('df-0b166a2d-32aa-4249-a5dc-cd585d47c9e6')\"\n",
              "            title=\"Suggest charts\"\n",
              "            style=\"display:none;\">\n",
              "\n",
              "<svg xmlns=\"http://www.w3.org/2000/svg\" height=\"24px\"viewBox=\"0 0 24 24\"\n",
              "     width=\"24px\">\n",
              "    <g>\n",
              "        <path d=\"M19 3H5c-1.1 0-2 .9-2 2v14c0 1.1.9 2 2 2h14c1.1 0 2-.9 2-2V5c0-1.1-.9-2-2-2zM9 17H7v-7h2v7zm4 0h-2V7h2v10zm4 0h-2v-4h2v4z\"/>\n",
              "    </g>\n",
              "</svg>\n",
              "  </button>\n",
              "\n",
              "<style>\n",
              "  .colab-df-quickchart {\n",
              "      --bg-color: #E8F0FE;\n",
              "      --fill-color: #1967D2;\n",
              "      --hover-bg-color: #E2EBFA;\n",
              "      --hover-fill-color: #174EA6;\n",
              "      --disabled-fill-color: #AAA;\n",
              "      --disabled-bg-color: #DDD;\n",
              "  }\n",
              "\n",
              "  [theme=dark] .colab-df-quickchart {\n",
              "      --bg-color: #3B4455;\n",
              "      --fill-color: #D2E3FC;\n",
              "      --hover-bg-color: #434B5C;\n",
              "      --hover-fill-color: #FFFFFF;\n",
              "      --disabled-bg-color: #3B4455;\n",
              "      --disabled-fill-color: #666;\n",
              "  }\n",
              "\n",
              "  .colab-df-quickchart {\n",
              "    background-color: var(--bg-color);\n",
              "    border: none;\n",
              "    border-radius: 50%;\n",
              "    cursor: pointer;\n",
              "    display: none;\n",
              "    fill: var(--fill-color);\n",
              "    height: 32px;\n",
              "    padding: 0;\n",
              "    width: 32px;\n",
              "  }\n",
              "\n",
              "  .colab-df-quickchart:hover {\n",
              "    background-color: var(--hover-bg-color);\n",
              "    box-shadow: 0 1px 2px rgba(60, 64, 67, 0.3), 0 1px 3px 1px rgba(60, 64, 67, 0.15);\n",
              "    fill: var(--button-hover-fill-color);\n",
              "  }\n",
              "\n",
              "  .colab-df-quickchart-complete:disabled,\n",
              "  .colab-df-quickchart-complete:disabled:hover {\n",
              "    background-color: var(--disabled-bg-color);\n",
              "    fill: var(--disabled-fill-color);\n",
              "    box-shadow: none;\n",
              "  }\n",
              "\n",
              "  .colab-df-spinner {\n",
              "    border: 2px solid var(--fill-color);\n",
              "    border-color: transparent;\n",
              "    border-bottom-color: var(--fill-color);\n",
              "    animation:\n",
              "      spin 1s steps(1) infinite;\n",
              "  }\n",
              "\n",
              "  @keyframes spin {\n",
              "    0% {\n",
              "      border-color: transparent;\n",
              "      border-bottom-color: var(--fill-color);\n",
              "      border-left-color: var(--fill-color);\n",
              "    }\n",
              "    20% {\n",
              "      border-color: transparent;\n",
              "      border-left-color: var(--fill-color);\n",
              "      border-top-color: var(--fill-color);\n",
              "    }\n",
              "    30% {\n",
              "      border-color: transparent;\n",
              "      border-left-color: var(--fill-color);\n",
              "      border-top-color: var(--fill-color);\n",
              "      border-right-color: var(--fill-color);\n",
              "    }\n",
              "    40% {\n",
              "      border-color: transparent;\n",
              "      border-right-color: var(--fill-color);\n",
              "      border-top-color: var(--fill-color);\n",
              "    }\n",
              "    60% {\n",
              "      border-color: transparent;\n",
              "      border-right-color: var(--fill-color);\n",
              "    }\n",
              "    80% {\n",
              "      border-color: transparent;\n",
              "      border-right-color: var(--fill-color);\n",
              "      border-bottom-color: var(--fill-color);\n",
              "    }\n",
              "    90% {\n",
              "      border-color: transparent;\n",
              "      border-bottom-color: var(--fill-color);\n",
              "    }\n",
              "  }\n",
              "</style>\n",
              "\n",
              "  <script>\n",
              "    async function quickchart(key) {\n",
              "      const quickchartButtonEl =\n",
              "        document.querySelector('#' + key + ' button');\n",
              "      quickchartButtonEl.disabled = true;  // To prevent multiple clicks.\n",
              "      quickchartButtonEl.classList.add('colab-df-spinner');\n",
              "      try {\n",
              "        const charts = await google.colab.kernel.invokeFunction(\n",
              "            'suggestCharts', [key], {});\n",
              "      } catch (error) {\n",
              "        console.error('Error during call to suggestCharts:', error);\n",
              "      }\n",
              "      quickchartButtonEl.classList.remove('colab-df-spinner');\n",
              "      quickchartButtonEl.classList.add('colab-df-quickchart-complete');\n",
              "    }\n",
              "    (() => {\n",
              "      let quickchartButtonEl =\n",
              "        document.querySelector('#df-0b166a2d-32aa-4249-a5dc-cd585d47c9e6 button');\n",
              "      quickchartButtonEl.style.display =\n",
              "        google.colab.kernel.accessAllowed ? 'block' : 'none';\n",
              "    })();\n",
              "  </script>\n",
              "</div>\n",
              "\n",
              "    </div>\n",
              "  </div>\n"
            ],
            "application/vnd.google.colaboratory.intrinsic+json": {
              "type": "dataframe",
              "summary": "{\n  \"name\": \"calculo_metricas(CM_CNN, clases_CNN)\",\n  \"rows\": 4,\n  \"fields\": [\n    {\n      \"column\": \"M\\u00e9trica\",\n      \"properties\": {\n        \"dtype\": \"string\",\n        \"num_unique_values\": 4,\n        \"samples\": [\n          \"Precision\",\n          \"F1-Score\",\n          \"Accuracy\"\n        ],\n        \"semantic_type\": \"\",\n        \"description\": \"\"\n      }\n    },\n    {\n      \"column\": \"M\\u00e1ximo\",\n      \"properties\": {\n        \"dtype\": \"number\",\n        \"std\": 0.1256695213888064,\n        \"min\": 0.7111111111111111,\n        \"max\": 0.9948,\n        \"num_unique_values\": 4,\n        \"samples\": [\n          0.8088235294117647,\n          0.7111111111111111,\n          0.9948\n        ],\n        \"semantic_type\": \"\",\n        \"description\": \"\"\n      }\n    },\n    {\n      \"column\": \"M\\u00ednimo\",\n      \"properties\": {\n        \"dtype\": \"number\",\n        \"std\": 0.44446385602004085,\n        \"min\": 0.04,\n        \"max\": 0.9634,\n        \"num_unique_values\": 4,\n        \"samples\": [\n          0.12307692307692308,\n          0.06837606837606838,\n          0.9634\n        ],\n        \"semantic_type\": \"\",\n        \"description\": \"\"\n      }\n    },\n    {\n      \"column\": \"Promedio\",\n      \"properties\": {\n        \"dtype\": \"number\",\n        \"std\": 0.29793846609657987,\n        \"min\": 0.3803,\n        \"max\": 0.987606,\n        \"num_unique_values\": 4,\n        \"samples\": [\n          0.4162677441653594,\n          0.38142843110456903,\n          0.987606\n        ],\n        \"semantic_type\": \"\",\n        \"description\": \"\"\n      }\n    }\n  ]\n}"
            }
          },
          "metadata": {},
          "execution_count": 69
        }
      ]
    },
    {
      "cell_type": "markdown",
      "source": [
        "Se realizaron dos modelos; ANN y CNN para la base da datos de CIFAR-100, en el primer modelo para 50 épocas se obtuvo un accuracy: 0.2324 y val_accuracy: 0.1513, muy inferior para considerarse adecuado, incluso luego de realizar técnicas de prepocesamiento como normalizado y escala de grises, del gráfico de entrenamiento se observa como el modelo empieza a estancarse en la época 40 mientras que mucho antes ya se empieza a generar overfitting. Para el modelo con CNN se obtiene un valor de accuracy: 0.4849 y val_accuracy: 0.3803, para este caso se mantienen las 3 capas de color y en la estructura se incuye dropout y regularización para evitar el overfitting generado en iteraciones previas. Aunque el modelo es superior, aun es posible obtener mejores modelos.\n",
        "En Reed Feedforward podríamos aumentar la cantidad de capas junto con dropout y cantidad de épocas, a pesar de ello, por la misma red, no se conseguirían grandes resultados.\n",
        "Para el caso de CNN, podríamos aumentar la cantidad de epocas, en un punto se generaría overfitting, para ello se debe disminuir el learning rate, disminuir el bach size, iterarar en los valores de dropout, incluso agregar una capa más y ajustar la regularización, reducir el modelo a una escala de grises podría miinimizar la carga de entrenamiento aunque limitar los resultados."
      ],
      "metadata": {
        "id": "YBfJMU5gVx91"
      }
    }
  ]
}